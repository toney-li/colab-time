{
  "nbformat": 4,
  "nbformat_minor": 0,
  "metadata": {
    "colab": {
      "provenance": [],
      "gpuType": "T4",
      "toc_visible": true,
      "authorship_tag": "ABX9TyNqvvg9tZDD6cZN85xUFrdH",
      "include_colab_link": true
    },
    "kernelspec": {
      "name": "python3",
      "display_name": "Python 3"
    },
    "language_info": {
      "name": "python"
    },
    "accelerator": "GPU"
  },
  "cells": [
    {
      "cell_type": "markdown",
      "metadata": {
        "id": "view-in-github",
        "colab_type": "text"
      },
      "source": [
        "<a href=\"https://colab.research.google.com/github/toney-li/colab-time/blob/main/env.ipynb\" target=\"_parent\"><img src=\"https://colab.research.google.com/assets/colab-badge.svg\" alt=\"Open In Colab\"/></a>"
      ]
    },
    {
      "cell_type": "code",
      "source": [
        "%%bash\n",
        "MINICONDA_INSTALLER_SCRIPT=Miniconda3-latest-Linux-x86_64.sh\n",
        "# MINICONDA_PREFIX=/usr/local\n",
        "# wget https://repo.continuum.io/miniconda/$MINICONDA_INSTALLER_SCRIPT\n",
        "# # chmod +x $MINICONDA_INSTALLER_SCRIPT\n",
        "# sh ./$MINICONDA_INSTALLER_SCRIPT -b -f -p $MINICONDA_PREFIX\n",
        "# ls $MINICONDA_INSTALLER_SCRIPT\n",
        "/usr/local/condabin/conda --version"
      ],
      "metadata": {
        "colab": {
          "base_uri": "https://localhost:8080/"
        },
        "id": "3AwpRcx8R1-P",
        "outputId": "34b7f556-98ce-4143-99d0-61bf79e04494"
      },
      "execution_count": 10,
      "outputs": [
        {
          "output_type": "stream",
          "name": "stdout",
          "text": [
            "conda 23.3.1\n"
          ]
        }
      ]
    },
    {
      "cell_type": "code",
      "source": [
        "!conda --version # now returns 4.8.3\n",
        "!ls /root"
      ],
      "metadata": {
        "colab": {
          "base_uri": "https://localhost:8080/"
        },
        "id": "6QdPx6OtTGh3",
        "outputId": "723472f2-fb76-4d70-aea5-2f2ac9635c77"
      },
      "execution_count": 24,
      "outputs": [
        {
          "output_type": "stream",
          "name": "stdout",
          "text": [
            "conda 23.3.1\n"
          ]
        }
      ]
    },
    {
      "cell_type": "code",
      "source": [
        "import sys\n",
        "sys.path"
      ],
      "metadata": {
        "colab": {
          "base_uri": "https://localhost:8080/"
        },
        "id": "JvQkaZEjW-qC",
        "outputId": "9a869193-733e-4022-8350-2e054e05b3f3"
      },
      "execution_count": 38,
      "outputs": [
        {
          "output_type": "execute_result",
          "data": {
            "text/plain": [
              "['/content',\n",
              " '/env/python',\n",
              " '/usr/lib/python310.zip',\n",
              " '/usr/lib/python3.10',\n",
              " '/usr/lib/python3.10/lib-dynload',\n",
              " '',\n",
              " '/usr/local/lib/python3.10/dist-packages',\n",
              " '/usr/lib/python3/dist-packages',\n",
              " '/usr/local/lib/python3.10/dist-packages/IPython/extensions',\n",
              " '/root/.ipython']"
            ]
          },
          "metadata": {},
          "execution_count": 38
        }
      ]
    },
    {
      "cell_type": "code",
      "execution_count": 26,
      "metadata": {
        "id": "lpximAxvDXn-",
        "colab": {
          "base_uri": "https://localhost:8080/"
        },
        "outputId": "3ab306a6-226b-4a83-f287-dfa06b864352"
      },
      "outputs": [
        {
          "output_type": "stream",
          "name": "stdout",
          "text": [
            "Collecting package metadata (current_repodata.json): - \b\b\\ \b\b| \b\b/ \b\b- \b\b\\ \b\b| \b\b/ \b\b- \b\b\\ \b\b| \b\b/ \b\b- \b\b\\ \b\b| \b\b/ \b\b- \b\b\\ \b\b| \b\b/ \b\b- \b\b\\ \b\b| \b\b/ \b\b- \b\b\\ \b\b| \b\b/ \b\b- \b\b\\ \b\b| \b\b/ \b\b- \b\b\\ \b\b| \b\b/ \b\b- \b\b\\ \b\b| \b\bdone\n",
            "Solving environment: - \b\b\\ \b\b| \b\b/ \b\b- \b\b\\ \b\b| \b\b/ \b\b- \b\b\\ \b\b| \b\b/ \b\b- \b\b\\ \b\b| \b\b/ \b\b- \b\b\\ \b\b| \b\b/ \b\b- \b\b\\ \b\b| \b\b/ \b\bdone\n",
            "\n",
            "# All requested packages already installed.\n",
            "\n",
            "Collecting package metadata (current_repodata.json): - \b\b\\ \b\b| \b\b/ \b\b- \b\b\\ \b\b| \b\b/ \b\b- \b\b\\ \b\b| \b\b/ \b\b- \b\b\\ \b\b| \b\b/ \b\b- \b\b\\ \b\b| \b\b/ \b\b- \b\b\\ \b\b| \b\bdone\n",
            "Solving environment: - \b\bunsuccessful initial attempt using frozen solve. Retrying with flexible solve.\n",
            "Collecting package metadata (repodata.json): | \b\b/ \b\b- \b\b\\ \b\b| \b\b/ \b\b- \b\b\\ \b\b| \b\b/ \b\b- \b\b\\ \b\b| \b\b/ \b\b- \b\b\\ \b\b| \b\b/ \b\b- \b\b\\ \b\b| \b\b/ \b\b- \b\b\\ \b\b| \b\b/ \b\b- \b\b\\ \b\b| \b\b/ \b\b- \b\b\\ \b\b| \b\b/ \b\b- \b\b\\ \b\b| \b\b/ \b\b- \b\b\\ \b\b| \b\b/ \b\b- \b\b\\ \b\b| \b\b/ \b\b- \b\b\\ \b\b| \b\b/ \b\b- \b\b\\ \b\b| \b\b/ \b\b- \b\b\\ \b\b| \b\b/ \b\b- \b\b\\ \b\b| \b\b/ \b\b- \b\b\\ \b\b| \b\b/ \b\b- \b\b\\ \b\b| \b\b/ \b\b- \b\b\\ \b\b| \b\b/ \b\b- \b\b\\ \b\b| \b\b/ \b\b- \b\b\\ \b\b| \b\b/ \b\b- \b\b\\ \b\b| \b\b/ \b\b- \b\b\\ \b\b| \b\b/ \b\b- \b\b\\ \b\b| \b\b/ \b\b- \b\b\\ \b\b| \b\b/ \b\b- \b\b\\ \b\b| \b\b/ \b\b- \b\b\\ \b\b| \b\b/ \b\b- \b\b\\ \b\b| \b\b/ \b\b- \b\b\\ \b\b| \b\b/ \b\b- \b\b\\ \b\b| \b\b/ \b\b- \b\b\\ \b\b| \b\b/ \b\b- \b\bdone\n",
            "Solving environment: | \b\bunsuccessful initial attempt using frozen solve. Retrying with flexible solve.\n",
            "\n",
            "PackagesNotFoundError: The following packages are not available from current channels:\n",
            "\n",
            "  - sentence-transformers\n",
            "\n",
            "Current channels:\n",
            "\n",
            "  - https://repo.anaconda.com/pkgs/main/linux-64\n",
            "  - https://repo.anaconda.com/pkgs/main/noarch\n",
            "  - https://repo.anaconda.com/pkgs/r/linux-64\n",
            "  - https://repo.anaconda.com/pkgs/r/noarch\n",
            "\n",
            "To search for alternate channels that may provide the conda package you're\n",
            "looking for, navigate to\n",
            "\n",
            "    https://anaconda.org\n",
            "\n",
            "and use the search bar at the top of the page.\n",
            "\n",
            "\n",
            "Collecting package metadata (current_repodata.json): - \b\b\\ \b\b| \b\b/ \b\b- \b\b\\ \b\b| \b\b/ \b\b- \b\b\\ \b\b| \b\b/ \b\b- \b\b\\ \b\b| \b\b/ \b\b- \b\b\\ \b\b| \b\b/ \b\b- \b\b\\ \b\b| \b\bdone\n",
            "Solving environment: - \b\bunsuccessful initial attempt using frozen solve. Retrying with flexible solve.\n",
            "Collecting package metadata (repodata.json): | \b\b/ \b\b- \b\b\\ \b\b| \b\b/ \b\b- \b\b\\ \b\b| \b\b/ \b\b- \b\b\\ \b\b| \b\b/ \b\b- \b\b\\ \b\b| \b\b/ \b\b- \b\b\\ \b\b| \b\b/ \b\b- \b\b\\ \b\b| \b\b/ \b\b- \b\b\\ \b\b| \b\b/ \b\b- \b\b\\ \b\b| \b\b/ \b\b- \b\b\\ \b\b| \b\b/ \b\b- \b\b\\ \b\b| \b\b/ \b\b- \b\b\\ \b\b| \b\b/ \b\b- \b\b\\ \b\b| \b\b/ \b\b- \b\b\\ \b\b| \b\b/ \b\b- \b\b\\ \b\b| \b\b/ \b\b- \b\b\\ \b\b| \b\b/ \b\b- \b\b\\ \b\b| \b\b/ \b\b- \b\b\\ \b\b| \b\b/ \b\b- \b\b\\ \b\b| \b\b/ \b\b- \b\b\\ \b\b| \b\b/ \b\b- \b\b\\ \b\b| \b\b/ \b\b- \b\b\\ \b\b| \b\b/ \b\bdone\n",
            "Solving environment: \\ \b\bunsuccessful initial attempt using frozen solve. Retrying with flexible solve.\n",
            "\n",
            "PackagesNotFoundError: The following packages are not available from current channels:\n",
            "\n",
            "  - langchain\n",
            "  - faiss\n",
            "  - llama_index\n",
            "\n",
            "Current channels:\n",
            "\n",
            "  - https://repo.anaconda.com/pkgs/main/linux-64\n",
            "  - https://repo.anaconda.com/pkgs/main/noarch\n",
            "  - https://repo.anaconda.com/pkgs/r/linux-64\n",
            "  - https://repo.anaconda.com/pkgs/r/noarch\n",
            "\n",
            "To search for alternate channels that may provide the conda package you're\n",
            "looking for, navigate to\n",
            "\n",
            "    https://anaconda.org\n",
            "\n",
            "and use the search bar at the top of the page.\n",
            "\n",
            "\n"
          ]
        }
      ],
      "source": [
        "!conda install openai\n",
        "!conda install sentence-transformers\n",
        "!conda install faiss langchain llama_index"
      ]
    },
    {
      "cell_type": "code",
      "source": [
        "import sys\n",
        "_ = (sys.path\n",
        "        .append(\"/usr/local/lib/python3.10/site-packages\"))\n"
      ],
      "metadata": {
        "id": "BQxJqL8femF3"
      },
      "execution_count": 45,
      "outputs": []
    },
    {
      "cell_type": "code",
      "source": [
        "!ls -lat /usr/local/lib/python3.10/site-packages"
      ],
      "metadata": {
        "colab": {
          "base_uri": "https://localhost:8080/"
        },
        "id": "lFDaM6eaMtmp",
        "outputId": "a02a7aa7-8a44-4ebc-88db-ee439022552b"
      },
      "execution_count": 44,
      "outputs": [
        {
          "output_type": "stream",
          "name": "stdout",
          "text": [
            "total 1900\n",
            "drwxr-xr-x   2 root root   4096 Jul  3 01:52 sentence_transformers-2.2.2.dist-info\n",
            "drwxr-xr-x   9 root root   4096 Jul  3 01:52 sentence_transformers\n",
            "drwxr-xr-x 203 root root  12288 Jul  3 01:52 .\n",
            "drwxr-xr-x   2 root root   4096 Jul  3 01:52 torchvision-0.15.2.dist-info\n",
            "drwxr-xr-x   9 root root   4096 Jul  3 01:52 torchvision\n",
            "drwxr-xr-x   2 root root   4096 Jul  3 01:52 torchvision.libs\n",
            "drwxr-xr-x   2 root root   4096 Jul  3 01:52 torch-2.0.1.dist-info\n",
            "drwxr-xr-x  10 root root   4096 Jul  3 01:52 torchgen\n",
            "drwxr-xr-x  52 root root   4096 Jul  3 01:52 torch\n",
            "drwxr-xr-x   3 root root   4096 Jul  3 01:52 nvfuser\n",
            "drwxr-xr-x   7 root root   4096 Jul  3 01:52 functorch\n",
            "drwxr-xr-x   2 root root   4096 Jul  3 01:51 triton-2.0.0.dist-info\n",
            "drwxr-xr-x  10 root root   4096 Jul  3 01:51 triton\n",
            "drwxr-xr-x   2 root root   4096 Jul  3 01:51 transformers-4.30.2.dist-info\n",
            "drwxr-xr-x  14 root root   4096 Jul  3 01:51 transformers\n",
            "drwxr-xr-x   2 root root   4096 Jul  3 01:51 huggingface_hub-0.15.1.dist-info\n",
            "drwxr-xr-x   6 root root   4096 Jul  3 01:51 huggingface_hub\n",
            "drwxr-xr-x   2 root root   4096 Jul  3 01:51 Jinja2-3.1.2.dist-info\n",
            "drwxr-xr-x   3 root root   4096 Jul  3 01:51 jinja2\n",
            "drwxr-xr-x   2 root root   4096 Jul  3 01:51 nltk-3.8.1.dist-info\n",
            "drwxr-xr-x  26 root root   4096 Jul  3 01:51 nltk\n",
            "drwxr-xr-x   2 root root   4096 Jul  3 01:51 nvidia_cudnn_cu11-8.5.0.96.dist-info\n",
            "drwxr-xr-x  14 root root   4096 Jul  3 01:51 nvidia\n",
            "drwxr-xr-x   2 root root   4096 Jul  3 01:51 nvidia_cusolver_cu11-11.4.0.1.dist-info\n",
            "drwxr-xr-x   2 root root   4096 Jul  3 01:51 click-8.1.3.dist-info\n",
            "drwxr-xr-x   3 root root   4096 Jul  3 01:51 click\n",
            "drwxr-xr-x   3 root root   4096 Jul  3 01:51 filelock-3.12.2.dist-info\n",
            "drwxr-xr-x   3 root root   4096 Jul  3 01:51 filelock\n",
            "drwxr-xr-x   2 root root   4096 Jul  3 01:51 fsspec-2023.6.0.dist-info\n",
            "drwxr-xr-x   5 root root   4096 Jul  3 01:51 fsspec\n",
            "drwxr-xr-x   2 root root   4096 Jul  3 01:51 MarkupSafe-2.1.3.dist-info\n",
            "drwxr-xr-x   3 root root   4096 Jul  3 01:51 markupsafe\n",
            "drwxr-xr-x   2 root root   4096 Jul  3 01:51 networkx-3.1.dist-info\n",
            "drwxr-xr-x  11 root root   4096 Jul  3 01:51 networkx\n",
            "drwxr-xr-x   2 root root   4096 Jul  3 01:51 nvidia_cublas_cu11-11.10.3.66.dist-info\n",
            "drwxr-xr-x   2 root root   4096 Jul  3 01:51 nvidia_cuda_cupti_cu11-11.7.101.dist-info\n",
            "drwxr-xr-x   2 root root   4096 Jul  3 01:51 nvidia_cuda_nvrtc_cu11-11.7.99.dist-info\n",
            "drwxr-xr-x   2 root root   4096 Jul  3 01:51 nvidia_cuda_runtime_cu11-11.7.99.dist-info\n",
            "drwxr-xr-x   2 root root   4096 Jul  3 01:51 nvidia_cufft_cu11-10.9.0.58.dist-info\n",
            "drwxr-xr-x   2 root root   4096 Jul  3 01:51 nvidia_curand_cu11-10.2.10.91.dist-info\n",
            "drwxr-xr-x   2 root root   4096 Jul  3 01:51 nvidia_cusparse_cu11-11.7.4.91.dist-info\n",
            "drwxr-xr-x   2 root root   4096 Jul  3 01:51 nvidia_nccl_cu11-2.14.3.dist-info\n",
            "drwxr-xr-x   2 root root   4096 Jul  3 01:51 nvidia_nvtx_cu11-11.7.91.dist-info\n",
            "drwxr-xr-x   2 root root   4096 Jul  3 01:51 PyYAML-6.0.dist-info\n",
            "drwxr-xr-x   3 root root   4096 Jul  3 01:51 yaml\n",
            "drwxr-xr-x   3 root root   4096 Jul  3 01:51 _yaml\n",
            "drwxr-xr-x   2 root root   4096 Jul  3 01:51 regex-2023.6.3.dist-info\n",
            "drwxr-xr-x   3 root root   4096 Jul  3 01:51 regex\n",
            "drwxr-xr-x   2 root root   4096 Jul  3 01:51 sympy-1.12.dist-info\n",
            "drwxr-xr-x  43 root root   4096 Jul  3 01:51 sympy\n",
            "drwxr-xr-x   2 root root   4096 Jul  3 01:51 __pycache__\n",
            "-rw-r--r--   1 root root  11207 Jul  3 01:51 isympy.py\n",
            "drwxr-xr-x   2 root root   4096 Jul  3 01:51 typing_extensions-4.7.1.dist-info\n",
            "-rw-r--r--   1 root root 111082 Jul  3 01:51 typing_extensions.py\n",
            "drwxr-xr-x   2 root root   4096 Jul  3 01:51 cmake-3.26.4.dist-info\n",
            "drwxr-xr-x   4 root root   4096 Jul  3 01:51 cmake\n",
            "drwxr-xr-x   2 root root   4096 Jul  3 01:51 lit-16.0.6.dist-info\n",
            "drwxr-xr-x   6 root root   4096 Jul  3 01:51 lit\n",
            "drwxr-xr-x   2 root root   4096 Jul  3 01:51 mpmath-1.3.0.dist-info\n",
            "drwxr-xr-x   8 root root   4096 Jul  3 01:51 mpmath\n",
            "drwxr-xr-x   2 root root   4096 Jul  3 01:51 safetensors-0.3.1.dist-info\n",
            "drwxr-xr-x   3 root root   4096 Jul  3 01:51 safetensors\n",
            "drwxr-xr-x   2 root root   4096 Jul  3 01:51 sentencepiece-0.1.99.dist-info\n",
            "drwxr-xr-x   3 root root   4096 Jul  3 01:51 sentencepiece\n",
            "drwxr-xr-x   2 root root   4096 Jul  3 01:51 tokenizers-0.13.3.dist-info\n",
            "drwxr-xr-x  11 root root   4096 Jul  3 01:51 tokenizers\n",
            "drwxr-xr-x   2 root root   4096 Jul  3 01:51 tokenizers.libs\n",
            "drwxr-xr-x   3 root root   4096 Jul  3 01:49 certifi\n",
            "drwxr-xr-x   2 root root   4096 Jul  3 01:49 xontrib\n",
            "drwxr-xr-x   6 root root   4096 Jul  3 01:49 conda_env\n",
            "drwxr-xr-x  16 root root   4096 Jul  3 01:49 conda\n",
            "drwxr-xr-x   3 root root   4096 Jul  3 01:49 aiosignal\n",
            "drwxr-xr-x   4 root root   4096 Jul  3 01:49 pooch\n",
            "drwxr-xr-x  21 root root   4096 Jul  3 01:49 fontTools\n",
            "drwxr-xr-x   6 root root   4096 Jul  3 01:49 dateutil\n",
            "drwxr-xr-x   5 root root   4096 Jul  3 01:49 openai\n",
            "drwxr-xr-x   2 root root   4096 Jul  3 01:49 openai-0.27.4.dist-info\n",
            "drwxr-xr-x  33 root root   4096 Jul  3 01:49 sklearn\n",
            "drwxr-xr-x   2 root root   4096 Jul  3 01:49 scikit_learn-1.2.2.dist-info\n",
            "drwxr-xr-x  16 root root   4096 Jul  3 01:49 pandas\n",
            "drwxr-xr-x   2 root root   4096 Jul  3 01:49 pandas-1.5.3-py3.10.egg-info\n",
            "drwxr-xr-x  23 root root   4096 Jul  3 01:49 scipy\n",
            "drwxr-xr-x   2 root root   4096 Jul  3 01:49 scipy-1.10.1-py3.10.egg-info\n",
            "drwxr-xr-x   4 root root   4096 Jul  3 01:49 numexpr\n",
            "drwxr-xr-x   2 root root   4096 Jul  3 01:49 numexpr-2.8.4.dist-info\n",
            "drwxr-xr-x   4 root root   4096 Jul  3 01:49 mkl_random\n",
            "drwxr-xr-x   2 root root   4096 Jul  3 01:49 mkl_random-1.2.2.dist-info\n",
            "drwxr-xr-x   6 root root   4096 Jul  3 01:49 mkl_fft\n",
            "drwxr-xr-x   2 root root   4096 Jul  3 01:49 mkl_fft-1.3.6-py3.10.egg-info\n",
            "drwxr-xr-x  14 root root   4096 Jul  3 01:49 matplotlib\n",
            "drwxr-xr-x   2 root root   4096 Jul  3 01:49 matplotlib-3.7.1.dist-info\n",
            "drwxr-xr-x   5 root root   4096 Jul  3 01:49 mpl_toolkits\n",
            "drwxr-xr-x   4 root root   4096 Jul  3 01:49 contourpy\n",
            "drwxr-xr-x   2 root root   4096 Jul  3 01:49 contourpy-1.0.5.dist-info\n",
            "drwxr-xr-x   7 root root   4096 Jul  3 01:49 bottleneck\n",
            "drwxr-xr-x   2 root root   4096 Jul  3 01:49 Bottleneck-1.3.5.dist-info\n",
            "drwxr-xr-x   2 root root   4096 Jul  3 01:49 pooch-1.4.0.dist-info\n",
            "drwxr-xr-x   3 root root   4096 Jul  3 01:49 conda-23.5.0.dist-info\n",
            "drwxr-xr-x   4 root root   4096 Jul  3 01:49 tests\n",
            "drwxr-xr-x   4 root root   4096 Jul  3 01:49 aiohttp\n",
            "drwxr-xr-x   2 root root   4096 Jul  3 01:49 aiohttp-3.8.3.dist-info\n",
            "drwxr-xr-x   3 root root   4096 Jul  3 01:49 yarl\n",
            "drwxr-xr-x   2 root root   4096 Jul  3 01:49 yarl-1.8.1.dist-info\n",
            "drwxr-xr-x   2 root root   4096 Jul  3 01:49 python_dateutil-2.8.2.dist-info\n",
            "drwxr-xr-x  15 root root   4096 Jul  3 01:49 plotly\n",
            "drwxr-xr-x   2 root root   4096 Jul  3 01:49 plotly-5.9.0.dist-info\n",
            "drwxr-xr-x   5 root root   4096 Jul  3 01:49 jupyterlab_plotly\n",
            "drwxr-xr-x   4 root root   4096 Jul  3 01:49 _plotly_utils\n",
            "drwxr-xr-x   3 root root   4096 Jul  3 01:49 _plotly_future_\n",
            "drwxr-xr-x   2 root root   4096 Jul  3 01:49 pandas_stubs-1.5.3.230203.dist-info\n",
            "drwxr-xr-x  13 root root   4096 Jul  3 01:49 pandas-stubs\n",
            "drwxr-xr-x  21 root root   4096 Jul  3 01:49 openpyxl\n",
            "drwxr-xr-x   2 root root   4096 Jul  3 01:49 openpyxl-3.0.10-py3.10.egg-info\n",
            "drwxr-xr-x  22 root root   4096 Jul  3 01:49 numpy\n",
            "drwxr-xr-x   2 root root   4096 Jul  3 01:49 numpy-1.25.0.dist-info\n",
            "drwxr-xr-x   2 root root   4096 Jul  3 01:49 fonttools-4.25.0-py3.9.egg-info\n",
            "drwxr-xr-x   2 root root   4096 Jul  3 01:49 aiosignal-1.2.0.dist-info\n",
            "drwxr-xr-x   2 root root   4096 Jul  3 01:49 types_pytz-2022.4.0.0.dist-info\n",
            "drwxr-xr-x   2 root root   4096 Jul  3 01:49 pytz-stubs\n",
            "drwxr-xr-x   2 root root   4096 Jul  3 01:49 threadpoolctl-2.2.0.dist-info\n",
            "drwxr-xr-x   3 root root   4096 Jul  3 01:49 tenacity\n",
            "drwxr-xr-x   2 root root   4096 Jul  3 01:49 tenacity-8.2.2.dist-info\n",
            "drwxr-xr-x   4 root root   4096 Jul  3 01:49 pytz\n",
            "drwxr-xr-x   2 root root   4096 Jul  3 01:49 pytz-2022.7.dist-info\n",
            "drwxr-xr-x   4 root root   4096 Jul  3 01:49 pyparsing\n",
            "drwxr-xr-x   2 root root   4096 Jul  3 01:49 Pillow-9.4.0-py3.10.egg-info\n",
            "drwxr-xr-x   2 root root   4096 Jul  3 01:49 pyparsing-3.0.9.dist-info\n",
            "drwxr-xr-x   3 root root   4096 Jul  3 01:49 PIL\n",
            "drwxr-xr-x   3 root root   4096 Jul  3 01:49 multidict\n",
            "drwxr-xr-x   2 root root   4096 Jul  3 01:49 munkres-1.1.4-py3.6.egg-info\n",
            "drwxr-xr-x   2 root root   4096 Jul  3 01:49 mkl_service-2.4.0-py3.10.egg-info\n",
            "drwxr-xr-x   2 root root   4096 Jul  3 01:49 multidict-6.0.2.dist-info\n",
            "drwxr-xr-x   3 root root   4096 Jul  3 01:49 kiwisolver\n",
            "drwxr-xr-x   2 root root   4096 Jul  3 01:49 kiwisolver-1.4.4.dist-info\n",
            "drwxr-xr-x   3 root root   4096 Jul  3 01:49 mkl\n",
            "drwxr-xr-x   5 root root   4096 Jul  3 01:49 joblib\n",
            "drwxr-xr-x   2 root root   4096 Jul  3 01:49 joblib-1.2.0.dist-info\n",
            "drwxr-xr-x   3 root root   4096 Jul  3 01:49 frozenlist\n",
            "drwxr-xr-x   3 root root   4096 Jul  3 01:49 et_xmlfile\n",
            "drwxr-xr-x   2 root root   4096 Jul  3 01:49 et_xmlfile-1.1.0-py3.10.egg-info\n",
            "drwxr-xr-x   2 root root   4096 Jul  3 01:49 frozenlist-1.3.3.dist-info\n",
            "drwxr-xr-x   3 root root   4096 Jul  3 01:49 colorama\n",
            "drwxr-xr-x   2 root root   4096 Jul  3 01:49 cycler-0.11.0.dist-info\n",
            "drwxr-xr-x   3 root root   4096 Jul  3 01:49 colorama-0.4.6.dist-info\n",
            "drwxr-xr-x   3 root root   4096 Jul  3 01:49 attrs\n",
            "drwxr-xr-x   2 root root   4096 Jul  3 01:49 certifi-2023.5.7.dist-info\n",
            "drwxr-xr-x   2 root root   4096 Jul  3 01:49 attrs-22.1.0.dist-info\n",
            "drwxr-xr-x   3 root root   4096 Jul  3 01:49 attr\n",
            "drwxr-xr-x   3 root root   4096 Jul  3 01:49 async_timeout\n",
            "drwxr-xr-x   2 root root   4096 Jul  3 01:49 async_timeout-4.0.2.dist-info\n",
            "drwxr-xr-x   2 root root   4096 Jul  3 01:49 appdirs-1.4.4-py3.9.egg-info\n",
            "drwxr-xr-x   4 root root   4096 Jul  3 01:10 pycparser\n",
            "drwxr-xr-x   5 root root   4096 Jul  3 01:10 charset_normalizer\n",
            "drwxr-xr-x   3 root root   4096 Jul  3 01:10 requests\n",
            "drwxr-xr-x   2 root root   4096 Jul  3 01:10 requests-2.28.1.dist-info\n",
            "drwxr-xr-x   6 root root   4096 Jul  3 01:10 urllib3\n",
            "drwxr-xr-x   2 root root   4096 Jul  3 01:10 urllib3-1.26.15.dist-info\n",
            "drwxr-xr-x   3 root root   4096 Jul  3 01:10 conda_package_handling\n",
            "drwxr-xr-x   2 root root   4096 Jul  3 01:10 conda_package_handling-2.0.2.dist-info\n",
            "drwxr-xr-x   2 root root   4096 Jul  3 01:10 pyOpenSSL-23.0.0.dist-info\n",
            "drwxr-xr-x   3 root root   4096 Jul  3 01:10 OpenSSL\n",
            "drwxr-xr-x   3 root root   4096 Jul  3 01:10 conda_package_streaming\n",
            "drwxr-xr-x   2 root root   4096 Jul  3 01:10 conda_package_streaming-0.7.0.dist-info\n",
            "drwxr-xr-x   3 root root   4096 Jul  3 01:10 conda_content_trust\n",
            "drwxr-xr-x   2 root root   4096 Jul  3 01:10 conda_content_trust-0.1.3.dist-info\n",
            "drwxr-xr-x   3 root root   4096 Jul  3 01:10 zstandard\n",
            "drwxr-xr-x   2 root root   4096 Jul  3 01:10 zstandard-0.19.0.dist-info\n",
            "drwxr-xr-x   5 root root   4096 Jul  3 01:10 pip\n",
            "drwxr-xr-x   2 root root   4096 Jul  3 01:10 pip-23.0.1-py3.10.egg-info\n",
            "drwxr-xr-x   5 root root   4096 Jul  3 01:10 cryptography\n",
            "drwxr-xr-x   2 root root   4096 Jul  3 01:10 cryptography-39.0.1.dist-info\n",
            "drwxr-xr-x   2 root root   4096 Jul  3 01:10 brotlipy-0.7.0-py3.10.egg-info\n",
            "drwxr-xr-x   3 root root   4096 Jul  3 01:10 brotli\n",
            "drwxr-xr-x   8 root root   4096 Jul  3 01:10 setuptools\n",
            "drwxr-xr-x   2 root root   4096 Jul  3 01:10 setuptools-65.6.3-py3.10.egg-info\n",
            "drwxr-xr-x   5 root root   4096 Jul  3 01:10 pkg_resources\n",
            "drwxr-xr-x   3 root root   4096 Jul  3 01:10 _distutils_hack\n",
            "drwxr-xr-x   2 root root   4096 Jul  3 01:10 ruamel.yaml-0.17.21.dist-info\n",
            "drwxr-xr-x   2 root root   4096 Jul  3 01:10 jsonpatch-1.32.dist-info\n",
            "drwxr-xr-x   3 root root   4096 Jul  3 01:10 ruamel\n",
            "drwxr-xr-x   3 root root   4096 Jul  3 01:10 cffi\n",
            "drwxr-xr-x   2 root root   4096 Jul  3 01:10 cffi-1.15.1.dist-info\n",
            "drwxr-xr-x   5 root root   4096 Jul  3 01:10 wheel\n",
            "drwxr-xr-x   2 root root   4096 Jul  3 01:10 wheel-0.38.4-py3.10.egg-info\n",
            "drwxr-xr-x   4 root root   4096 Jul  3 01:10 tqdm\n",
            "drwxr-xr-x   2 root root   4096 Jul  3 01:10 tqdm-4.65.0.dist-info\n",
            "drwxr-xr-x   6 root root   4096 Jul  3 01:10 toolz\n",
            "drwxr-xr-x   2 root root   4096 Jul  3 01:10 toolz-0.12.0.dist-info\n",
            "drwxr-xr-x   3 root root   4096 Jul  3 01:10 tlz\n",
            "drwxr-xr-x   2 root root   4096 Jul  3 01:10 six-1.16.0.dist-info\n",
            "drwxr-xr-x   2 root root   4096 Jul  3 01:10 ruamel.yaml.clib-0.2.6.dist-info\n",
            "drwxr-xr-x   2 root root   4096 Jul  3 01:10 PySocks-1.7.1.dist-info\n",
            "drwxr-xr-x   2 root root   4096 Jul  3 01:10 pycparser-2.21.dist-info\n",
            "drwxr-xr-x   2 root root   4096 Jul  3 01:10 pycosat-0.6.4.dist-info\n",
            "drwxr-xr-x   3 root root   4096 Jul  3 01:10 pluggy\n",
            "drwxr-xr-x   2 root root   4096 Jul  3 01:10 pluggy-1.0.0.dist-info\n",
            "drwxr-xr-x   3 root root   4096 Jul  3 01:10 packaging\n",
            "drwxr-xr-x   2 root root   4096 Jul  3 01:10 packaging-23.0.dist-info\n",
            "drwxr-xr-x   2 root root   4096 Jul  3 01:10 jsonpointer-2.1-py3.6.egg-info\n",
            "drwxr-xr-x   3 root root   4096 Jul  3 01:10 idna\n",
            "drwxr-xr-x   2 root root   4096 Jul  3 01:10 idna-3.4.dist-info\n",
            "drwxr-xr-x   2 root root   4096 Jul  3 01:10 charset_normalizer-2.0.4.dist-info\n",
            "drwxr-xr-x   3 root root   4096 Jul  3 01:10 boltons\n",
            "drwxr-xr-x   2 root root   4096 Jul  3 01:10 boltons-23.0.0.dist-info\n",
            "drwxr-xr-x   1 root root  12288 Jul  3 01:10 ..\n",
            "-rw-rw-r--   2 root root    569 Mar 23 17:47 matplotlib-3.7.1-py3.10-nspkg.pth\n",
            "-rw-rw-r--   2 root root     90 Mar 23 17:47 pylab.py\n",
            "-rw-rw-r--   2 root root    119 Mar 21 18:56 README.txt\n",
            "-rw-rw-r--   2 root root    151 Jan  5 17:37 distutils-precedence.pth\n",
            "-rwxrwxr-x   2 root root 215184 Dec  7  2022 _cffi_backend.cpython-310-x86_64-linux-gnu.so\n",
            "-rwxrwxr-x   2 root root  97168 Oct 26  2022 pycosat.cpython-310-x86_64-linux-gnu.so\n",
            "-rw-rw-r--   2 root root   8806 Oct 26  2022 test_pycosat.py\n",
            "-rw-rw-r--   2 root root    539 Oct 20  2022 ruamel.yaml-0.17.21-py3.10-nspkg.pth\n",
            "-rwxrwxr-x   2 root root 403256 Oct 20  2022 _ruamel_yaml.cpython-310-x86_64-linux-gnu.so\n",
            "-rw-rw-r--   2 root root  34549 Feb 14  2022 six.py\n",
            "-rw-rw-r--   2 root root   3966 Dec 29  2021 sockshandler.py\n",
            "-rw-rw-r--   2 root root  31086 Dec 29  2021 socks.py\n",
            "-rw-rw-r--   2 root root  14519 Nov 25  2021 cycler.py\n",
            "-rw-rw-r--   2 root root  31635 Aug 24  2021 threadpoolctl.py\n",
            "-rw-rw-r--   2 root root  28813 Mar 14  2021 jsonpatch.py\n",
            "-rw-rw-r--   2 root root   9794 Mar 13  2021 jsonpointer.py\n",
            "-rw-rw-r--   2 root root  19406 Sep 15  2020 munkres.py\n",
            "-rw-rw-r--   2 root root  24720 May 10  2020 appdirs.py\n"
          ]
        }
      ]
    }
  ]
}